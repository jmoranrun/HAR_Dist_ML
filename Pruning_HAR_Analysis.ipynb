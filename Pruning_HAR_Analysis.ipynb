{
  "nbformat": 4,
  "nbformat_minor": 0,
  "metadata": {
    "accelerator": "GPU",
    "colab": {
      "name": "Pruning_HAR_Analysis.ipynb",
      "provenance": [],
      "collapsed_sections": [],
      "machine_shape": "hm",
      "include_colab_link": true
    },
    "environment": {
      "name": "tf2-2-2-gpu.2-2.m50",
      "type": "gcloud",
      "uri": "gcr.io/deeplearning-platform-release/tf2-2-2-gpu.2-2:m50"
    },
    "kernelspec": {
      "display_name": "Python 3",
      "language": "python",
      "name": "python3"
    },
    "language_info": {
      "codemirror_mode": {
        "name": "ipython",
        "version": 3
      },
      "file_extension": ".py",
      "mimetype": "text/x-python",
      "name": "python",
      "nbconvert_exporter": "python",
      "pygments_lexer": "ipython3",
      "version": "3.7.6"
    }
  },
  "cells": [
    {
      "cell_type": "markdown",
      "metadata": {
        "id": "view-in-github",
        "colab_type": "text"
      },
      "source": [
        "<a href=\"https://colab.research.google.com/github/jmoranrun/HAR_Dist_ML/blob/main/Pruning_HAR_Analysis.ipynb\" target=\"_parent\"><img src=\"https://colab.research.google.com/assets/colab-badge.svg\" alt=\"Open In Colab\"/></a>"
      ]
    },
    {
      "cell_type": "markdown",
      "metadata": {
        "id": "pZHfeNcuGIVW"
      },
      "source": [
        "# NoteBook for Pruning Experiments Analysis\n",
        "This notebook reads in the data files produced by the \"Pruning Experiments around Edge Personalization\" notebook. <br>\n",
        " Its used to run the analysis for this presentation.\n",
        "Human Activity Recognition in a Distributed Machine Learning System. Jul 26, 2021  IEEE International Conference on Wearable and Implantable Body Sensor Networks (BSN2021)"
      ]
    },
    {
      "cell_type": "code",
      "metadata": {
        "id": "CIIKcnXiF_t6",
        "colab": {
          "base_uri": "https://localhost:8080/"
        },
        "outputId": "24c8fdce-5266-4f35-8b43-b9bbbb7d2578"
      },
      "source": [
        "import tensorflow as tf\n",
        "#tf.enable_eager_execution()\n",
        "\n",
        "import tempfile\n",
        "import zipfile\n",
        "import os\n",
        "import tensorboard\n",
        "import numpy as np\n",
        "import pandas as pd\n",
        "import random \n",
        "import matplotlib.pyplot as plt\n",
        "import ast\n",
        "\n",
        "from google.colab import drive\n",
        "drive.mount('/content/drive')\n",
        "\n",
        "plt.rcParams.update({'font.size': 14})\n"
      ],
      "execution_count": null,
      "outputs": [
        {
          "output_type": "stream",
          "text": [
            "Drive already mounted at /content/drive; to attempt to forcibly remount, call drive.mount(\"/content/drive\", force_remount=True).\n"
          ],
          "name": "stdout"
        }
      ]
    },
    {
      "cell_type": "code",
      "metadata": {
        "id": "54FTP5BkmZY_"
      },
      "source": [
        "## Function to convert the results read in from files to numpy array wih correct dimension\n",
        "def convert_strings(str_in):\n",
        "  str_in = str_in.rstrip(\"\\n\")\n",
        "  str_in = str_in.replace('[', '') \n",
        "  str_in = str_in.replace(']', '') \n",
        "  str_in = str_in.split(',')\n",
        "  [float(i) for i in str_in]\n",
        "  str_in = np.asarray(str_in)\n",
        "  str_in = str_in.astype(np.float)\n",
        "  str_in = np.reshape(str_in,(num_runs_per_edge_ratio, len(edge_central_ratio_lst)))\n",
        "  return str_in\n"
      ],
      "execution_count": null,
      "outputs": []
    },
    {
      "cell_type": "code",
      "metadata": {
        "id": "V0uQdKyUjRTt",
        "colab": {
          "base_uri": "https://localhost:8080/",
          "height": 354
        },
        "outputId": "78efcbb8-2dfb-4464-ee98-68366c2b8dd9"
      },
      "source": [
        "with open('/content/drive/My Drive/pet_pcf_tet_bl.txt', 'r') as f:\n",
        "  pet_pcf_tet=f.readlines()\n",
        "\n",
        "with open('/content/drive/My Drive/pef_pct_tet_bl.txt', 'r') as f:\n",
        "  pef_pct_tet=f.readlines()\n",
        "\n",
        "num_runs_per_edge_ratio=10\n",
        "edge_central_ratio_lst = [0.4, 0.5, 0.6, 0.7, 0.8]\n",
        "\n",
        "pet_pcf_tet_edge = pet_pcf_tet[1]\n",
        "pet_pcf_tet_edge = convert_strings(pet_pcf_tet_edge) \n",
        "\n",
        "pet_pcf_tet_central  = pet_pcf_tet[0]\n",
        "pet_pcf_tet_central = convert_strings(pet_pcf_tet_central) \n",
        "\n",
        "pet_pcf_tet_edge=np.mean(pet_pcf_tet_edge, axis=0)\n",
        "pet_pcf_tet_central=np.mean(pet_pcf_tet_central, axis=0)\n",
        "\n",
        "\n",
        "pef_pct_tet_edge = pef_pct_tet[1]\n",
        "pef_pct_tet_edge = convert_strings(pef_pct_tet_edge) \n",
        "\n",
        "pef_pct_tet_central  = pef_pct_tet[0]\n",
        "pef_pct_tet_central = convert_strings(pef_pct_tet_central) \n",
        "\n",
        "\n",
        "pef_pct_tet_edge=np.mean(pef_pct_tet_edge, axis=0)\n",
        "pef_pct_tet_central=np.mean(pef_pct_tet_central, axis=0)\n",
        "\n",
        "\n",
        "delta =  pef_pct_tet_edge-pet_pcf_tet_edge\n",
        "print(delta)\n",
        "mean_delta = np.mean(delta)\n",
        "var_delta = np.var(delta)\n",
        "\n",
        "plt.plot(edge_central_ratio_lst, 100*pet_pcf_tet_edge, label='Prune Centrally')\n",
        "plt.plot(edge_central_ratio_lst, 100*pef_pct_tet_edge, label='Prune at Edge')\n",
        "x_pos = 2\n",
        "y_pos = 96.3\n",
        "mean_delta=100*mean_delta\n",
        "#plt.text(x_pos, y_pos, 'Mean of delta is %.2f' %mean_delta)\n",
        "#y_pos = 96.45\n",
        "#plt.text(x_pos, y_pos, \"Var of delta is %.5f\" % var_delta)\n",
        "plt.rcParams.update({'font.size': 14})\n",
        "plt.xlabel(\"Edge User Ratio\")\n",
        "plt.xticks(edge_central_ratio_lst)\n",
        "plt.ylabel(\"Edge accuracy %\")\n",
        "\n",
        "plt.legend()\n",
        "plt.show()\n",
        "\n",
        "delta =  pef_pct_tet_edge-pet_pcf_tet_edge\n",
        "print(delta)\n",
        "mean_delta = np.mean(delta)\n",
        "var_delta = np.var(delta)\n",
        "\n",
        "print(100*mean_delta)\n",
        "print(100*var_delta)\n",
        "\n"
      ],
      "execution_count": null,
      "outputs": [
        {
          "output_type": "stream",
          "text": [
            "[0.00286512 0.00235704 0.00421606 0.00436471 0.00167932]\n"
          ],
          "name": "stdout"
        },
        {
          "output_type": "display_data",
          "data": {
            "image/png": "[encoded data removed]",
            "text/plain": [
              "<Figure size 432x288 with 1 Axes>"
            ]
          },
          "metadata": {
            "tags": [],
            "needs_background": "light"
          }
        },
        {
          "output_type": "stream",
          "text": [
            "[0.00286512 0.00235704 0.00421606 0.00436471 0.00167932]\n",
            "0.30964501999999783\n",
            "0.00010940994306888099\n"
          ],
          "name": "stdout"
        }
      ]
    },
    {
      "cell_type": "code",
      "metadata": {
        "id": "QE0ZXaxLq6AN",
        "colab": {
          "base_uri": "https://localhost:8080/",
          "height": 354
        },
        "outputId": "abfcbc10-bd4f-4263-c913-076d67bac80e"
      },
      "source": [
        "with open('/content/drive/My Drive/pef_pcf_tef_bl.txt', 'r') as f:\n",
        "  pef_pcf_tef=f.readlines()\n",
        "\n",
        "with open('/content/drive/My Drive/pef_pct_tef_bl.txt', 'r') as f:\n",
        "  pef_pct_tef=f.readlines()\n",
        "\n",
        "\n",
        "num_runs_per_edge_ratio=10\n",
        "edge_central_ratio_lst = [0.4, 0.5, 0.6, 0.7, 0.8]\n",
        "\n",
        "pef_pcf_tef_edge = pef_pcf_tef[1]\n",
        "pef_pcf_tef_edge = convert_strings(pef_pcf_tef_edge) \n",
        "\n",
        "pef_pcf_tef_central  = pef_pcf_tef[0]\n",
        "pef_pcf_tef_central = convert_strings(pef_pcf_tef_central) \n",
        "\n",
        "pef_pcf_tef_edge=np.mean(pef_pcf_tef_edge, axis=0)\n",
        "pef_pcf_tef_central=np.mean(pef_pcf_tef_central, axis=0)\n",
        "\n",
        "\n",
        "pef_pct_tef_edge = pef_pct_tef[1]\n",
        "pef_pct_tef_edge = convert_strings(pef_pct_tef_edge) \n",
        "\n",
        "pef_pct_tef_central  = pef_pct_tef[0]\n",
        "pef_pct_tef_central = convert_strings(pef_pct_tef_central) \n",
        "\n",
        "\n",
        "pef_pct_tef_edge=np.mean(pef_pct_tef_edge, axis=0)\n",
        "pef_pct_tef_central=np.mean(pef_pct_tef_central, axis=0)\n",
        "\n",
        "\n",
        "delta =  pef_pcf_tef_edge-pef_pct_tef_edge\n",
        "print(delta)\n",
        "mean_delta = np.mean(delta)\n",
        "var_delta = np.var(delta)\n",
        "\n",
        "plt.plot(edge_central_ratio_lst, 100*pef_pcf_tef_edge, label='No Pruning')\n",
        "plt.plot(edge_central_ratio_lst, 100*pef_pct_tef_edge, label='Prune Centrally')\n",
        "x_pos = 2\n",
        "y_pos = 96.3\n",
        "mean_delta=100*mean_delta\n",
        "#plt.text(x_pos, y_pos, 'Mean of delta is %.2f' %mean_delta)\n",
        "#y_pos = 96.45\n",
        "#plt.text(x_pos, y_pos, \"Var of delta is %.5f\" % var_delta)\n",
        "plt.ylabel(\"Edge accuracy %\")\n",
        "plt.xlabel(\"Edge User Ratio\")\n",
        "plt.xticks(edge_central_ratio_lst)\n",
        "plt.legend()\n",
        "plt.show()\n",
        "\n",
        "\n",
        "#plt.plot(edge_central_ratio_lst, 100*pef_pcf_tef_central, label='pef_pcf_tef_central')\n",
        "#plt.plot(edge_central_ratio_lst, 100*pef_pct_tef_central, label='pef_pct_tef_central')\n",
        "#x_pos = 2\n",
        "#y_pos = 96.3\n",
        "#mean_delta=100*mean_delta\n",
        "#plt.text(x_pos, y_pos, 'Mean of delta is %.2f' %mean_delta)\n",
        "#y_pos = 96.45\n",
        "#plt.text(x_pos, y_pos, \"Var of delta is %.5f\" % var_delta)\n",
        "#plt.ylabel(\"Edge accuracy %\")\n",
        "#plt.xlabel(\"Edge_central_ratio\")\n",
        "#plt.legend()\n",
        "#plt.show()\n",
        "\n",
        "\n",
        "delta =  pef_pcf_tef_edge-pef_pct_tef_edge\n",
        "print(delta)\n",
        "mean_delta = np.mean(delta)\n",
        "var_delta = np.var(delta)\n",
        "\n",
        "print(100*mean_delta)\n",
        "print(100*var_delta)\n"
      ],
      "execution_count": null,
      "outputs": [
        {
          "output_type": "stream",
          "text": [
            "[ 0.00094749  0.00144913 -0.00911079 -0.01712617 -0.01223769]\n"
          ],
          "name": "stdout"
        },
        {
          "output_type": "display_data",
          "data": {
            "image/png": "[encoded data removed]",
            "text/plain": [
              "<Figure size 432x288 with 1 Axes>"
            ]
          },
          "metadata": {
            "tags": [],
            "needs_background": "light"
          }
        },
        {
          "output_type": "stream",
          "text": [
            "[ 0.00094749  0.00144913 -0.00911079 -0.01712617 -0.01223769]\n",
            "-0.7215605599999964\n",
            "0.00537492110927642\n"
          ],
          "name": "stdout"
        }
      ]
    }
  ]
}